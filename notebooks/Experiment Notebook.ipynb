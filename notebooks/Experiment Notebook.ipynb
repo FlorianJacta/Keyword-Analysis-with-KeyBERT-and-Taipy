{
 "cells": [
  {
   "cell_type": "markdown",
   "id": "784dddaa",
   "metadata": {},
   "source": [
    "# Keyword Analysis with KeyBERT and Taipy"
   ]
  },
  {
   "cell_type": "markdown",
   "id": "4198bd2e",
   "metadata": {},
   "source": [
    "## 01 - Extraction of arXiv Abstracts with API\n",
    "- https://github.com/lukasschwab/arxiv.py"
   ]
  },
  {
   "cell_type": "code",
   "execution_count": 1,
   "id": "a76859df",
   "metadata": {},
   "outputs": [
    {
     "name": "stderr",
     "output_type": "stream",
     "text": [
      "C:\\Users\\kenne\\Google Drive\\Data Vault\\GitHub\\Keyword-Analysis-with-KeyBERT-and-Taipy\\keybert_taipy_venv\\lib\\site-packages\\tqdm\\auto.py:22: TqdmWarning: IProgress not found. Please update jupyter and ipywidgets. See https://ipywidgets.readthedocs.io/en/stable/user_install.html\n",
      "  from .autonotebook import tqdm as notebook_tqdm\n"
     ]
    }
   ],
   "source": [
    "import arxiv\n",
    "import sqlite3\n",
    "import pandas as pd\n",
    "from keybert import KeyBERT"
   ]
  },
  {
   "cell_type": "code",
   "execution_count": 2,
   "id": "b8c29cdb",
   "metadata": {},
   "outputs": [],
   "source": [
    "search = arxiv.Search(\n",
    "            query = 'artificial intelligence',\n",
    "            max_results = 2,\n",
    "            sort_by = arxiv.SortCriterion.SubmittedDate,\n",
    "            sort_order = arxiv.SortOrder.Descending)"
   ]
  },
  {
   "cell_type": "code",
   "execution_count": 3,
   "id": "d18eb5a7",
   "metadata": {
    "scrolled": true
   },
   "outputs": [
    {
     "name": "stdout",
     "output_type": "stream",
     "text": [
      "http://arxiv.org/abs/2302.08500v1\n",
      "2023-02-16 18:55:21+00:00\n",
      "Auditing large language models: a three-layered approach\n",
      "The emergence of large language models (LLMs) represents a major advance in\n",
      "artificial intelligence (AI) research. However, the widespread use of LLMs is\n",
      "also coupled with significant ethical and social challenges. Previous research\n",
      "has pointed towards auditing as a promising governance mechanism to help ensure\n",
      "that AI systems are designed and deployed in ways that are ethical, legal, and\n",
      "technically robust. However, existing auditing procedures fail to address the\n",
      "governance challenges posed by LLMs, which are adaptable to a wide range of\n",
      "downstream tasks. To help bridge that gap, we offer three contributions in this\n",
      "article. First, we establish the need to develop new auditing procedures that\n",
      "capture the risks posed by LLMs by analysing the affordances and constraints of\n",
      "existing auditing procedures. Second, we outline a blueprint to audit LLMs in\n",
      "feasible and effective ways by drawing on best practices from IT governance and\n",
      "system engineering. Specifically, we propose a three-layered approach, whereby\n",
      "governance audits, model audits, and application audits complement and inform\n",
      "each other. Finally, we discuss the limitations not only of our three-layered\n",
      "approach but also of the prospect of auditing LLMs at all. Ultimately, this\n",
      "article seeks to expand the methodological toolkit available to technology\n",
      "providers and policymakers who wish to analyse and evaluate LLMs from\n",
      "technical, ethical, and legal perspectives.\n",
      "http://arxiv.org/abs/2302.08481v1\n",
      "2023-02-16 18:40:24+00:00\n",
      "Local-to-Global Information Communication for Real-Time Semantic Segmentation Network Search\n",
      "Neural Architecture Search (NAS) has shown great potentials in automatically\n",
      "designing neural network architectures for real-time semantic segmentation.\n",
      "Unlike previous works that utilize a simplified search space with cell-sharing\n",
      "way, we introduce a new search space where a lightweight model can be more\n",
      "effectively searched by replacing the cell-sharing manner with cell-independent\n",
      "one. Based on this, the communication of local to global information is\n",
      "achieved through two well-designed modules. For local information exchange, a\n",
      "graph convolutional network (GCN) guided module is seamlessly integrated as a\n",
      "communication deliver between cells. For global information aggregation, we\n",
      "propose a novel dense-connected fusion module (cell) which aggregates\n",
      "long-range multi-level features in the network automatically. In addition, a\n",
      "latency-oriented constraint is endowed into the search process to balance the\n",
      "accuracy and latency. We name the proposed framework as Local-to-Global\n",
      "Information Communication Network Search (LGCNet). Extensive experiments on\n",
      "Cityscapes and CamVid datasets demonstrate that LGCNet achieves the new\n",
      "state-of-the-art trade-off between accuracy and speed. In particular, on\n",
      "Cityscapes dataset, LGCNet achieves the new best performance of 74.0\\% mIoU\n",
      "with the speed of 115.2 FPS on Titan Xp.\n"
     ]
    }
   ],
   "source": [
    "for result in search.results():\n",
    "    print(result.entry_id)\n",
    "    print(result.published)\n",
    "    print(result.title)\n",
    "    print(result.summary)"
   ]
  },
  {
   "cell_type": "markdown",
   "id": "bfdb673a",
   "metadata": {},
   "source": [
    "___\n",
    "## 02 - SQLite Database Setup\n",
    "- https://www.digitalocean.com/community/tutorials/how-to-use-the-sqlite3-module-in-python-3"
   ]
  },
  {
   "cell_type": "code",
   "execution_count": 8,
   "id": "e71b7051",
   "metadata": {},
   "outputs": [],
   "source": [
    "connection = sqlite3.connect(\"../data/abstracts.db\")\n",
    "cursor = connection.cursor()"
   ]
  },
  {
   "cell_type": "code",
   "execution_count": 3,
   "id": "b5449545",
   "metadata": {},
   "outputs": [
    {
     "data": {
      "text/plain": [
       "<sqlite3.Cursor at 0x1e7288b22d0>"
      ]
     },
     "execution_count": 3,
     "metadata": {},
     "output_type": "execute_result"
    }
   ],
   "source": [
    "# Create new table in database\n",
    "cursor.execute(\"CREATE TABLE IF NOT EXISTS abstracts_ai (id TEXT PRIMARY KEY, \\\n",
    "                                                         title TEXT, \\\n",
    "                                                         date_published TEXT, \\\n",
    "                                                         abstract TEXT)\"\n",
    "              )"
   ]
  },
  {
   "cell_type": "code",
   "execution_count": 4,
   "id": "e1639466",
   "metadata": {},
   "outputs": [
    {
     "data": {
      "text/plain": [
       "<sqlite3.Cursor at 0x1e7288b22d0>"
      ]
     },
     "execution_count": 4,
     "metadata": {},
     "output_type": "execute_result"
    }
   ],
   "source": [
    "# Insert dummy row\n",
    "cursor.execute(\"INSERT INTO abstracts_ai VALUES ('a1', \\\n",
    "                                                 'test_title', \\\n",
    "                                                 '2023-02-16 18:16:09+00:00', \\\n",
    "                                                 'test abstract text')\"\n",
    "              )"
   ]
  },
  {
   "cell_type": "code",
   "execution_count": 5,
   "id": "c9f03ca4",
   "metadata": {
    "scrolled": true
   },
   "outputs": [
    {
     "data": {
      "text/html": [
       "<div>\n",
       "<style scoped>\n",
       "    .dataframe tbody tr th:only-of-type {\n",
       "        vertical-align: middle;\n",
       "    }\n",
       "\n",
       "    .dataframe tbody tr th {\n",
       "        vertical-align: top;\n",
       "    }\n",
       "\n",
       "    .dataframe thead th {\n",
       "        text-align: right;\n",
       "    }\n",
       "</style>\n",
       "<table border=\"1\" class=\"dataframe\">\n",
       "  <thead>\n",
       "    <tr style=\"text-align: right;\">\n",
       "      <th></th>\n",
       "      <th>id</th>\n",
       "      <th>title</th>\n",
       "      <th>date_published</th>\n",
       "      <th>abstract</th>\n",
       "    </tr>\n",
       "  </thead>\n",
       "  <tbody>\n",
       "    <tr>\n",
       "      <th>0</th>\n",
       "      <td>a1</td>\n",
       "      <td>test_title</td>\n",
       "      <td>2023-02-16 18:16:09+00:00</td>\n",
       "      <td>test abstract text</td>\n",
       "    </tr>\n",
       "  </tbody>\n",
       "</table>\n",
       "</div>"
      ],
      "text/plain": [
       "   id       title             date_published            abstract\n",
       "0  a1  test_title  2023-02-16 18:16:09+00:00  test abstract text"
      ]
     },
     "execution_count": 5,
     "metadata": {},
     "output_type": "execute_result"
    }
   ],
   "source": [
    "# Fetch all rows\n",
    "query = \"SELECT * FROM abstracts_ai\"\n",
    "df = pd.read_sql_query(\"SELECT * FROM abstracts_ai\", connection)\n",
    "df"
   ]
  },
  {
   "cell_type": "code",
   "execution_count": 6,
   "id": "9b231ec3",
   "metadata": {},
   "outputs": [
    {
     "data": {
      "text/plain": [
       "<sqlite3.Cursor at 0x1e7288b22d0>"
      ]
     },
     "execution_count": 6,
     "metadata": {},
     "output_type": "execute_result"
    }
   ],
   "source": [
    "# Delete dummy row\n",
    "cursor.execute(\n",
    "    \"DELETE FROM abstracts_ai\")"
   ]
  },
  {
   "cell_type": "code",
   "execution_count": 7,
   "id": "93d93151",
   "metadata": {},
   "outputs": [
    {
     "data": {
      "text/html": [
       "<div>\n",
       "<style scoped>\n",
       "    .dataframe tbody tr th:only-of-type {\n",
       "        vertical-align: middle;\n",
       "    }\n",
       "\n",
       "    .dataframe tbody tr th {\n",
       "        vertical-align: top;\n",
       "    }\n",
       "\n",
       "    .dataframe thead th {\n",
       "        text-align: right;\n",
       "    }\n",
       "</style>\n",
       "<table border=\"1\" class=\"dataframe\">\n",
       "  <thead>\n",
       "    <tr style=\"text-align: right;\">\n",
       "      <th></th>\n",
       "      <th>id</th>\n",
       "      <th>title</th>\n",
       "      <th>date_published</th>\n",
       "      <th>abstract</th>\n",
       "    </tr>\n",
       "  </thead>\n",
       "  <tbody>\n",
       "  </tbody>\n",
       "</table>\n",
       "</div>"
      ],
      "text/plain": [
       "Empty DataFrame\n",
       "Columns: [id, title, date_published, abstract]\n",
       "Index: []"
      ]
     },
     "execution_count": 7,
     "metadata": {},
     "output_type": "execute_result"
    }
   ],
   "source": [
    "# Check all rows deleted\n",
    "query = \"SELECT * FROM abstracts_ai\"\n",
    "df = pd.read_sql_query(\"SELECT * FROM abstracts_ai\", connection)\n",
    "df"
   ]
  },
  {
   "cell_type": "markdown",
   "id": "830697db",
   "metadata": {},
   "source": [
    "___\n",
    "## 03 - Retrieve and Store arXiv AI Article Abstracts"
   ]
  },
  {
   "cell_type": "code",
   "execution_count": 10,
   "id": "8241387c",
   "metadata": {},
   "outputs": [],
   "source": [
    "search = arxiv.Search(\n",
    "            query = 'artificial intelligence',\n",
    "            max_results = 2,\n",
    "            sort_by = arxiv.SortCriterion.SubmittedDate,\n",
    "            sort_order = arxiv.SortOrder.Descending)"
   ]
  },
  {
   "cell_type": "code",
   "execution_count": 32,
   "id": "8f63421d",
   "metadata": {},
   "outputs": [],
   "source": [
    "for result in search.results():\n",
    "    entry_id = result.entry_id\n",
    "    uid = entry_id.split('.')[-1]\n",
    "    title = result.title\n",
    "    date_published = result.published\n",
    "    abstract = result.summary\n",
    "    \n",
    "    # Replace row if unique constraint in primary key is violated\n",
    "    cursor.execute(f'INSERT OR REPLACE INTO abstracts_ai VALUES (\"{uid}\", \\\n",
    "                                                      \"{title}\", \\\n",
    "                                                      \"{date_published}\", \\\n",
    "                                                      \"{abstract}\")'\n",
    "                  )"
   ]
  },
  {
   "cell_type": "code",
   "execution_count": 33,
   "id": "7fa21ba6",
   "metadata": {},
   "outputs": [
    {
     "data": {
      "text/html": [
       "<div>\n",
       "<style scoped>\n",
       "    .dataframe tbody tr th:only-of-type {\n",
       "        vertical-align: middle;\n",
       "    }\n",
       "\n",
       "    .dataframe tbody tr th {\n",
       "        vertical-align: top;\n",
       "    }\n",
       "\n",
       "    .dataframe thead th {\n",
       "        text-align: right;\n",
       "    }\n",
       "</style>\n",
       "<table border=\"1\" class=\"dataframe\">\n",
       "  <thead>\n",
       "    <tr style=\"text-align: right;\">\n",
       "      <th></th>\n",
       "      <th>id</th>\n",
       "      <th>title</th>\n",
       "      <th>date_published</th>\n",
       "      <th>abstract</th>\n",
       "    </tr>\n",
       "  </thead>\n",
       "  <tbody>\n",
       "    <tr>\n",
       "      <th>0</th>\n",
       "      <td>08500v1</td>\n",
       "      <td>Auditing large language models: a three-layere...</td>\n",
       "      <td>2023-02-16 18:55:21+00:00</td>\n",
       "      <td>The emergence of large language models (LLMs) ...</td>\n",
       "    </tr>\n",
       "    <tr>\n",
       "      <th>1</th>\n",
       "      <td>08481v1</td>\n",
       "      <td>Local-to-Global Information Communication for ...</td>\n",
       "      <td>2023-02-16 18:40:24+00:00</td>\n",
       "      <td>Neural Architecture Search (NAS) has shown gre...</td>\n",
       "    </tr>\n",
       "  </tbody>\n",
       "</table>\n",
       "</div>"
      ],
      "text/plain": [
       "        id                                              title  \\\n",
       "0  08500v1  Auditing large language models: a three-layere...   \n",
       "1  08481v1  Local-to-Global Information Communication for ...   \n",
       "\n",
       "              date_published  \\\n",
       "0  2023-02-16 18:55:21+00:00   \n",
       "1  2023-02-16 18:40:24+00:00   \n",
       "\n",
       "                                            abstract  \n",
       "0  The emergence of large language models (LLMs) ...  \n",
       "1  Neural Architecture Search (NAS) has shown gre...  "
      ]
     },
     "execution_count": 33,
     "metadata": {},
     "output_type": "execute_result"
    }
   ],
   "source": [
    "# Fetch all rows\n",
    "query = \"SELECT * FROM abstracts_ai\"\n",
    "df = pd.read_sql_query(\"SELECT * FROM abstracts_ai\", connection)\n",
    "df"
   ]
  },
  {
   "cell_type": "markdown",
   "id": "dc13fcdd",
   "metadata": {},
   "source": [
    "___\n",
    "## 04 - DataFrame Pre-Processing"
   ]
  },
  {
   "cell_type": "code",
   "execution_count": 13,
   "id": "3b0930f1",
   "metadata": {},
   "outputs": [
    {
     "name": "stdout",
     "output_type": "stream",
     "text": [
      "id                object\n",
      "title             object\n",
      "date_published    object\n",
      "abstract          object\n",
      "dtype: object\n"
     ]
    }
   ],
   "source": [
    "print(df.dtypes)"
   ]
  },
  {
   "cell_type": "code",
   "execution_count": 14,
   "id": "7bc0c1e7",
   "metadata": {},
   "outputs": [],
   "source": [
    "df['date_published'] = pd.to_datetime(df['date_published'])"
   ]
  },
  {
   "cell_type": "code",
   "execution_count": 15,
   "id": "e5f0c42a",
   "metadata": {},
   "outputs": [
    {
     "name": "stdout",
     "output_type": "stream",
     "text": [
      "id                             object\n",
      "title                          object\n",
      "date_published    datetime64[ns, UTC]\n",
      "abstract                       object\n",
      "dtype: object\n"
     ]
    }
   ],
   "source": [
    "print(df.dtypes)"
   ]
  },
  {
   "cell_type": "code",
   "execution_count": 16,
   "id": "1eb6a9da",
   "metadata": {},
   "outputs": [],
   "source": [
    "# Create empty column to store keyword extraction output\n",
    "df['keywords'] = ''"
   ]
  },
  {
   "cell_type": "code",
   "execution_count": 20,
   "id": "79bcac20",
   "metadata": {},
   "outputs": [
    {
     "data": {
      "text/html": [
       "<div>\n",
       "<style scoped>\n",
       "    .dataframe tbody tr th:only-of-type {\n",
       "        vertical-align: middle;\n",
       "    }\n",
       "\n",
       "    .dataframe tbody tr th {\n",
       "        vertical-align: top;\n",
       "    }\n",
       "\n",
       "    .dataframe thead th {\n",
       "        text-align: right;\n",
       "    }\n",
       "</style>\n",
       "<table border=\"1\" class=\"dataframe\">\n",
       "  <thead>\n",
       "    <tr style=\"text-align: right;\">\n",
       "      <th></th>\n",
       "      <th>id</th>\n",
       "      <th>title</th>\n",
       "      <th>date_published</th>\n",
       "      <th>abstract</th>\n",
       "      <th>keywords</th>\n",
       "    </tr>\n",
       "  </thead>\n",
       "  <tbody>\n",
       "    <tr>\n",
       "      <th>0</th>\n",
       "      <td>08500v1</td>\n",
       "      <td>Auditing large language models: a three-layere...</td>\n",
       "      <td>2023-02-16 18:55:21+00:00</td>\n",
       "      <td>The emergence of large language models (LLMs) ...</td>\n",
       "      <td></td>\n",
       "    </tr>\n",
       "    <tr>\n",
       "      <th>1</th>\n",
       "      <td>08481v1</td>\n",
       "      <td>Local-to-Global Information Communication for ...</td>\n",
       "      <td>2023-02-16 18:40:24+00:00</td>\n",
       "      <td>Neural Architecture Search (NAS) has shown gre...</td>\n",
       "      <td></td>\n",
       "    </tr>\n",
       "  </tbody>\n",
       "</table>\n",
       "</div>"
      ],
      "text/plain": [
       "        id                                              title  \\\n",
       "0  08500v1  Auditing large language models: a three-layere...   \n",
       "1  08481v1  Local-to-Global Information Communication for ...   \n",
       "\n",
       "             date_published  \\\n",
       "0 2023-02-16 18:55:21+00:00   \n",
       "1 2023-02-16 18:40:24+00:00   \n",
       "\n",
       "                                            abstract keywords  \n",
       "0  The emergence of large language models (LLMs) ...           \n",
       "1  Neural Architecture Search (NAS) has shown gre...           "
      ]
     },
     "execution_count": 20,
     "metadata": {},
     "output_type": "execute_result"
    }
   ],
   "source": [
    "df"
   ]
  },
  {
   "cell_type": "markdown",
   "id": "4cdb3302",
   "metadata": {},
   "source": [
    "___\n",
    "## 05 - Keyword Extraction with KeyBERT\n",
    "- https://github.com/MaartenGr/KeyBERT\n",
    "- https://maartengr.github.io/KeyBERT/guides/embeddings.html"
   ]
  },
  {
   "cell_type": "code",
   "execution_count": 17,
   "id": "07b3e9a2",
   "metadata": {
    "scrolled": true
   },
   "outputs": [],
   "source": [
    "kw_model = KeyBERT()"
   ]
  },
  {
   "cell_type": "code",
   "execution_count": 26,
   "id": "557f8255",
   "metadata": {},
   "outputs": [],
   "source": [
    "# Define parameters\n",
    "stop_words = 'english'\n",
    "ngram_lower_bound = 1\n",
    "ngram_upper_bound = 2\n",
    "use_mmr = True\n",
    "diversity = 0.2\n",
    "use_maxsum=False\n",
    "nr_candidates = 20\n",
    "top_n = 3"
   ]
  },
  {
   "cell_type": "code",
   "execution_count": 29,
   "id": "485da567",
   "metadata": {},
   "outputs": [
    {
     "name": "stdout",
     "output_type": "stream",
     "text": [
      "[('governance audits', 0.5767), ('model audits', 0.542), ('auditing promising', 0.5245)]\n",
      "[('convolutional network', 0.4329), ('cityscapes dataset', 0.379), ('search lgcnet', 0.3707)]\n"
     ]
    }
   ],
   "source": [
    "for i, row in df.iterrows():\n",
    "    abstract_text = row['abstract']\n",
    "    kw_output = kw_model.extract_keywords(abstract_text, \n",
    "                                  keyphrase_ngram_range=(ngram_lower_bound, ngram_upper_bound), \n",
    "                                  stop_words=stop_words,\n",
    "                                  use_mmr=use_mmr, \n",
    "                                  use_maxsum=use_maxsum,\n",
    "                                  diversity=diversity,\n",
    "                                  top_n=top_n)\n",
    "    df.at[i, 'keywords'] = kw_output\n",
    "    print(kw_output)"
   ]
  },
  {
   "cell_type": "code",
   "execution_count": 30,
   "id": "0dfe23c7",
   "metadata": {},
   "outputs": [
    {
     "data": {
      "text/html": [
       "<div>\n",
       "<style scoped>\n",
       "    .dataframe tbody tr th:only-of-type {\n",
       "        vertical-align: middle;\n",
       "    }\n",
       "\n",
       "    .dataframe tbody tr th {\n",
       "        vertical-align: top;\n",
       "    }\n",
       "\n",
       "    .dataframe thead th {\n",
       "        text-align: right;\n",
       "    }\n",
       "</style>\n",
       "<table border=\"1\" class=\"dataframe\">\n",
       "  <thead>\n",
       "    <tr style=\"text-align: right;\">\n",
       "      <th></th>\n",
       "      <th>id</th>\n",
       "      <th>title</th>\n",
       "      <th>date_published</th>\n",
       "      <th>abstract</th>\n",
       "      <th>keywords</th>\n",
       "    </tr>\n",
       "  </thead>\n",
       "  <tbody>\n",
       "    <tr>\n",
       "      <th>0</th>\n",
       "      <td>08500v1</td>\n",
       "      <td>Auditing large language models: a three-layere...</td>\n",
       "      <td>2023-02-16 18:55:21+00:00</td>\n",
       "      <td>The emergence of large language models (LLMs) ...</td>\n",
       "      <td>[(governance audits, 0.5767), (model audits, 0...</td>\n",
       "    </tr>\n",
       "    <tr>\n",
       "      <th>1</th>\n",
       "      <td>08481v1</td>\n",
       "      <td>Local-to-Global Information Communication for ...</td>\n",
       "      <td>2023-02-16 18:40:24+00:00</td>\n",
       "      <td>Neural Architecture Search (NAS) has shown gre...</td>\n",
       "      <td>[(convolutional network, 0.4329), (cityscapes ...</td>\n",
       "    </tr>\n",
       "  </tbody>\n",
       "</table>\n",
       "</div>"
      ],
      "text/plain": [
       "        id                                              title  \\\n",
       "0  08500v1  Auditing large language models: a three-layere...   \n",
       "1  08481v1  Local-to-Global Information Communication for ...   \n",
       "\n",
       "             date_published  \\\n",
       "0 2023-02-16 18:55:21+00:00   \n",
       "1 2023-02-16 18:40:24+00:00   \n",
       "\n",
       "                                            abstract  \\\n",
       "0  The emergence of large language models (LLMs) ...   \n",
       "1  Neural Architecture Search (NAS) has shown gre...   \n",
       "\n",
       "                                            keywords  \n",
       "0  [(governance audits, 0.5767), (model audits, 0...  \n",
       "1  [(convolutional network, 0.4329), (cityscapes ...  "
      ]
     },
     "execution_count": 30,
     "metadata": {},
     "output_type": "execute_result"
    }
   ],
   "source": [
    "df"
   ]
  }
 ],
 "metadata": {
  "kernelspec": {
   "display_name": "keybert_taipy_venv",
   "language": "python",
   "name": "keybert_taipy_venv"
  },
  "language_info": {
   "codemirror_mode": {
    "name": "ipython",
    "version": 3
   },
   "file_extension": ".py",
   "mimetype": "text/x-python",
   "name": "python",
   "nbconvert_exporter": "python",
   "pygments_lexer": "ipython3",
   "version": "3.9.12"
  }
 },
 "nbformat": 4,
 "nbformat_minor": 5
}
