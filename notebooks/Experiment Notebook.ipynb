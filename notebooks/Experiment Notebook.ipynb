{
 "cells": [
  {
   "cell_type": "markdown",
   "id": "f0b9ef2b",
   "metadata": {},
   "source": [
    "# Keyword Analysis with KeyBERT and Taipy"
   ]
  },
  {
   "cell_type": "markdown",
   "id": "6be6d89b",
   "metadata": {},
   "source": [
    "## 01 - Extraction of arXiv Abstracts with API\n",
    "- https://github.com/lukasschwab/arxiv.py"
   ]
  },
  {
   "cell_type": "code",
   "execution_count": 1,
   "id": "53bdba88",
   "metadata": {},
   "outputs": [],
   "source": [
    "import arxiv\n",
    "import sqlite3\n",
    "import pandas as pd\n",
    "from keybert import KeyBERT"
   ]
  },
  {
   "cell_type": "code",
   "execution_count": 2,
   "id": "65228909",
   "metadata": {},
   "outputs": [],
   "source": [
    "search = arxiv.Search(\n",
    "            query = 'artificial intelligence',\n",
    "            max_results = 2,\n",
    "            sort_by = arxiv.SortCriterion.SubmittedDate,\n",
    "            sort_order = arxiv.SortOrder.Descending)"
   ]
  },
  {
   "cell_type": "code",
   "execution_count": 3,
   "id": "6b3f36ae",
   "metadata": {},
   "outputs": [
    {
     "data": {
      "text/plain": [
       "arxiv.arxiv.Search"
      ]
     },
     "execution_count": 3,
     "metadata": {},
     "output_type": "execute_result"
    }
   ],
   "source": [
    "type(search)"
   ]
  },
  {
   "cell_type": "code",
   "execution_count": 4,
   "id": "b3875f5f",
   "metadata": {
    "scrolled": true
   },
   "outputs": [
    {
     "name": "stdout",
     "output_type": "stream",
     "text": [
      "http://arxiv.org/abs/2303.05512v1\n",
      "2023-03-09 18:59:50+00:00\n",
      "PAC-NeRF: Physics Augmented Continuum Neural Radiance Fields for Geometry-Agnostic System Identification\n",
      "Existing approaches to system identification (estimating the physical\n",
      "parameters of an object) from videos assume known object geometries. This\n",
      "precludes their applicability in a vast majority of scenes where object\n",
      "geometries are complex or unknown. In this work, we aim to identify parameters\n",
      "characterizing a physical system from a set of multi-view videos without any\n",
      "assumption on object geometry or topology. To this end, we propose \"Physics\n",
      "Augmented Continuum Neural Radiance Fields\" (PAC-NeRF), to estimate both the\n",
      "unknown geometry and physical parameters of highly dynamic objects from\n",
      "multi-view videos. We design PAC-NeRF to only ever produce physically plausible\n",
      "states by enforcing the neural radiance field to follow the conservation laws\n",
      "of continuum mechanics. For this, we design a hybrid Eulerian-Lagrangian\n",
      "representation of the neural radiance field, i.e., we use the Eulerian grid\n",
      "representation for NeRF density and color fields, while advecting the neural\n",
      "radiance fields via Lagrangian particles. This hybrid Eulerian-Lagrangian\n",
      "representation seamlessly blends efficient neural rendering with the material\n",
      "point method (MPM) for robust differentiable physics simulation. We validate\n",
      "the effectiveness of our proposed framework on geometry and physical parameter\n",
      "estimation over a vast range of materials, including elastic bodies,\n",
      "plasticine, sand, Newtonian and non-Newtonian fluids, and demonstrate\n",
      "significant performance gain on most tasks.\n",
      "http://arxiv.org/abs/2303.05510v1\n",
      "2023-03-09 18:59:47+00:00\n",
      "Planning with Large Language Models for Code Generation\n",
      "Existing large language model-based code generation pipelines typically use\n",
      "beam search or sampling algorithms during the decoding process. Although the\n",
      "programs they generate achieve high token-matching-based scores, they often\n",
      "fail to compile or generate incorrect outputs. The main reason is that\n",
      "conventional Transformer decoding algorithms may not be the best choice for\n",
      "code generation. In this work, we propose a novel Transformer decoding\n",
      "algorithm, Planning-Guided Transformer Decoding (PG-TD), that uses a planning\n",
      "algorithm to do lookahead search and guide the Transformer to generate better\n",
      "programs. Specifically, instead of simply optimizing the likelihood of the\n",
      "generated sequences, the Transformer makes use of a planner to generate\n",
      "candidate programs and test them on public test cases. The Transformer can\n",
      "therefore make more informed decisions and generate tokens that will eventually\n",
      "lead to higher-quality programs. We also design a mechanism that shares\n",
      "information between the Transformer and the planner to make our algorithm\n",
      "computationally efficient. We empirically evaluate our framework with several\n",
      "large language models as backbones on public coding challenge benchmarks,\n",
      "showing that 1) it can generate programs that consistently achieve higher\n",
      "performance compared with competing baseline methods; 2) it enables\n",
      "controllable code generation, such as concise codes and highly-commented codes\n",
      "by optimizing modified objective.\n"
     ]
    }
   ],
   "source": [
    "for result in search.results():\n",
    "    print(result.entry_id)\n",
    "    print(result.published)\n",
    "    print(result.title)\n",
    "    print(result.summary)"
   ]
  },
  {
   "cell_type": "markdown",
   "id": "56de4024",
   "metadata": {},
   "source": [
    "___\n",
    "## 02 - SQLite Database Setup\n",
    "- https://www.digitalocean.com/community/tutorials/how-to-use-the-sqlite3-module-in-python-3"
   ]
  },
  {
   "cell_type": "code",
   "execution_count": 4,
   "id": "073395dd",
   "metadata": {},
   "outputs": [],
   "source": [
    "connection = sqlite3.connect(\"../data/abstracts.db\")\n",
    "cursor = connection.cursor()"
   ]
  },
  {
   "cell_type": "code",
   "execution_count": 5,
   "id": "cb5c1306",
   "metadata": {},
   "outputs": [
    {
     "data": {
      "text/plain": [
       "<sqlite3.Cursor at 0x2183b230b90>"
      ]
     },
     "execution_count": 5,
     "metadata": {},
     "output_type": "execute_result"
    }
   ],
   "source": [
    "# Create new table in database\n",
    "cursor.execute(\"CREATE TABLE IF NOT EXISTS abstracts_ai (id TEXT PRIMARY KEY, \\\n",
    "                                                         title TEXT, \\\n",
    "                                                         date_published TEXT, \\\n",
    "                                                         abstract TEXT)\"\n",
    "              )"
   ]
  },
  {
   "cell_type": "code",
   "execution_count": 6,
   "id": "a19e8dda",
   "metadata": {},
   "outputs": [
    {
     "data": {
      "text/plain": [
       "<sqlite3.Cursor at 0x2183b230b90>"
      ]
     },
     "execution_count": 6,
     "metadata": {},
     "output_type": "execute_result"
    }
   ],
   "source": [
    "# Insert dummy row\n",
    "cursor.execute(\"INSERT INTO abstracts_ai VALUES ('a1', \\\n",
    "                                                 'test_title', \\\n",
    "                                                 '2023-02-16 18:16:09+00:00', \\\n",
    "                                                 'test abstract text')\"\n",
    "              )"
   ]
  },
  {
   "cell_type": "code",
   "execution_count": 7,
   "id": "83c8badb",
   "metadata": {
    "scrolled": true
   },
   "outputs": [
    {
     "data": {
      "text/html": [
       "<div>\n",
       "<style scoped>\n",
       "    .dataframe tbody tr th:only-of-type {\n",
       "        vertical-align: middle;\n",
       "    }\n",
       "\n",
       "    .dataframe tbody tr th {\n",
       "        vertical-align: top;\n",
       "    }\n",
       "\n",
       "    .dataframe thead th {\n",
       "        text-align: right;\n",
       "    }\n",
       "</style>\n",
       "<table border=\"1\" class=\"dataframe\">\n",
       "  <thead>\n",
       "    <tr style=\"text-align: right;\">\n",
       "      <th></th>\n",
       "      <th>id</th>\n",
       "      <th>title</th>\n",
       "      <th>date_published</th>\n",
       "      <th>abstract</th>\n",
       "    </tr>\n",
       "  </thead>\n",
       "  <tbody>\n",
       "    <tr>\n",
       "      <th>0</th>\n",
       "      <td>a1</td>\n",
       "      <td>test_title</td>\n",
       "      <td>2023-02-16 18:16:09+00:00</td>\n",
       "      <td>test abstract text</td>\n",
       "    </tr>\n",
       "  </tbody>\n",
       "</table>\n",
       "</div>"
      ],
      "text/plain": [
       "   id       title             date_published            abstract\n",
       "0  a1  test_title  2023-02-16 18:16:09+00:00  test abstract text"
      ]
     },
     "execution_count": 7,
     "metadata": {},
     "output_type": "execute_result"
    }
   ],
   "source": [
    "# Fetch all rows\n",
    "query = \"SELECT * FROM abstracts_ai\"\n",
    "df = pd.read_sql_query(\"SELECT * FROM abstracts_ai\", connection)\n",
    "df"
   ]
  },
  {
   "cell_type": "code",
   "execution_count": 8,
   "id": "df2bcd7c",
   "metadata": {},
   "outputs": [
    {
     "data": {
      "text/plain": [
       "<sqlite3.Cursor at 0x2183b230b90>"
      ]
     },
     "execution_count": 8,
     "metadata": {},
     "output_type": "execute_result"
    }
   ],
   "source": [
    "# Delete dummy row\n",
    "cursor.execute(\n",
    "    \"DELETE FROM abstracts_ai\")"
   ]
  },
  {
   "cell_type": "code",
   "execution_count": 9,
   "id": "12354b61",
   "metadata": {},
   "outputs": [
    {
     "data": {
      "text/html": [
       "<div>\n",
       "<style scoped>\n",
       "    .dataframe tbody tr th:only-of-type {\n",
       "        vertical-align: middle;\n",
       "    }\n",
       "\n",
       "    .dataframe tbody tr th {\n",
       "        vertical-align: top;\n",
       "    }\n",
       "\n",
       "    .dataframe thead th {\n",
       "        text-align: right;\n",
       "    }\n",
       "</style>\n",
       "<table border=\"1\" class=\"dataframe\">\n",
       "  <thead>\n",
       "    <tr style=\"text-align: right;\">\n",
       "      <th></th>\n",
       "      <th>id</th>\n",
       "      <th>title</th>\n",
       "      <th>date_published</th>\n",
       "      <th>abstract</th>\n",
       "    </tr>\n",
       "  </thead>\n",
       "  <tbody>\n",
       "  </tbody>\n",
       "</table>\n",
       "</div>"
      ],
      "text/plain": [
       "Empty DataFrame\n",
       "Columns: [id, title, date_published, abstract]\n",
       "Index: []"
      ]
     },
     "execution_count": 9,
     "metadata": {},
     "output_type": "execute_result"
    }
   ],
   "source": [
    "# Check all rows deleted\n",
    "query = \"SELECT * FROM abstracts_ai\"\n",
    "df = pd.read_sql_query(\"SELECT * FROM abstracts_ai\", connection)\n",
    "df"
   ]
  },
  {
   "cell_type": "markdown",
   "id": "fa300ff3",
   "metadata": {},
   "source": [
    "___\n",
    "## 03 - Retrieve and Store arXiv AI Article Abstracts"
   ]
  },
  {
   "cell_type": "code",
   "execution_count": 10,
   "id": "8defa6f1",
   "metadata": {},
   "outputs": [],
   "source": [
    "search = arxiv.Search(\n",
    "            query = 'artificial intelligence',\n",
    "            max_results = 2,\n",
    "            sort_by = arxiv.SortCriterion.SubmittedDate,\n",
    "            sort_order = arxiv.SortOrder.Descending)"
   ]
  },
  {
   "cell_type": "code",
   "execution_count": 13,
   "id": "3c7236c2",
   "metadata": {},
   "outputs": [],
   "source": [
    "for result in search.results():\n",
    "    entry_id = result.entry_id\n",
    "    uid = entry_id.split('.')[-1]\n",
    "    title = result.title\n",
    "    date_published = result.published\n",
    "    abstract = result.summary\n",
    "    \n",
    "    query = 'INSERT OR REPLACE INTO abstracts_ai(id, title, date_published, abstract)' + \\\n",
    "            ' VALUES(?, ?, ?, ?);'\n",
    "    \n",
    "    fields = (uid, title, date_published, abstract)\n",
    "\n",
    "    cursor.execute(query, fields)"
   ]
  },
  {
   "cell_type": "code",
   "execution_count": 14,
   "id": "21542f57",
   "metadata": {},
   "outputs": [
    {
     "data": {
      "text/html": [
       "<div>\n",
       "<style scoped>\n",
       "    .dataframe tbody tr th:only-of-type {\n",
       "        vertical-align: middle;\n",
       "    }\n",
       "\n",
       "    .dataframe tbody tr th {\n",
       "        vertical-align: top;\n",
       "    }\n",
       "\n",
       "    .dataframe thead th {\n",
       "        text-align: right;\n",
       "    }\n",
       "</style>\n",
       "<table border=\"1\" class=\"dataframe\">\n",
       "  <thead>\n",
       "    <tr style=\"text-align: right;\">\n",
       "      <th></th>\n",
       "      <th>id</th>\n",
       "      <th>title</th>\n",
       "      <th>date_published</th>\n",
       "      <th>abstract</th>\n",
       "    </tr>\n",
       "  </thead>\n",
       "  <tbody>\n",
       "    <tr>\n",
       "      <th>0</th>\n",
       "      <td>05512v1</td>\n",
       "      <td>PAC-NeRF: Physics Augmented Continuum Neural R...</td>\n",
       "      <td>2023-03-09 18:59:50+00:00</td>\n",
       "      <td>Existing approaches to system identification (...</td>\n",
       "    </tr>\n",
       "    <tr>\n",
       "      <th>1</th>\n",
       "      <td>05510v1</td>\n",
       "      <td>Planning with Large Language Models for Code G...</td>\n",
       "      <td>2023-03-09 18:59:47+00:00</td>\n",
       "      <td>Existing large language model-based code gener...</td>\n",
       "    </tr>\n",
       "  </tbody>\n",
       "</table>\n",
       "</div>"
      ],
      "text/plain": [
       "        id                                              title  \\\n",
       "0  05512v1  PAC-NeRF: Physics Augmented Continuum Neural R...   \n",
       "1  05510v1  Planning with Large Language Models for Code G...   \n",
       "\n",
       "              date_published  \\\n",
       "0  2023-03-09 18:59:50+00:00   \n",
       "1  2023-03-09 18:59:47+00:00   \n",
       "\n",
       "                                            abstract  \n",
       "0  Existing approaches to system identification (...  \n",
       "1  Existing large language model-based code gener...  "
      ]
     },
     "execution_count": 14,
     "metadata": {},
     "output_type": "execute_result"
    }
   ],
   "source": [
    "# Fetch all rows\n",
    "query = \"SELECT * FROM abstracts_ai\"\n",
    "df = pd.read_sql_query(\"SELECT * FROM abstracts_ai\", connection)\n",
    "df"
   ]
  },
  {
   "cell_type": "markdown",
   "id": "15ca1d43",
   "metadata": {},
   "source": [
    "## Alternative - Without SQLite"
   ]
  },
  {
   "cell_type": "code",
   "execution_count": 9,
   "id": "396c6bab",
   "metadata": {},
   "outputs": [],
   "source": [
    "df_raw = pd.DataFrame()"
   ]
  },
  {
   "cell_type": "code",
   "execution_count": 10,
   "id": "d77d973c",
   "metadata": {},
   "outputs": [],
   "source": [
    "for result in search.results():\n",
    "    entry_id = result.entry_id\n",
    "    uid = entry_id.split('.')[-1]\n",
    "    title = result.title\n",
    "    date_published = result.published\n",
    "    abstract = result.summary\n",
    "    \n",
    "    result_dict = {'uid': uid,\n",
    "                   'title': title,\n",
    "                   'date_published': date_published,\n",
    "                   'abstract': abstract\n",
    "                  }\n",
    "    \n",
    "    df_raw = df_raw.append(result_dict, ignore_index=True)    "
   ]
  },
  {
   "cell_type": "code",
   "execution_count": 11,
   "id": "69fae32a",
   "metadata": {},
   "outputs": [
    {
     "data": {
      "text/html": [
       "<div>\n",
       "<style scoped>\n",
       "    .dataframe tbody tr th:only-of-type {\n",
       "        vertical-align: middle;\n",
       "    }\n",
       "\n",
       "    .dataframe tbody tr th {\n",
       "        vertical-align: top;\n",
       "    }\n",
       "\n",
       "    .dataframe thead th {\n",
       "        text-align: right;\n",
       "    }\n",
       "</style>\n",
       "<table border=\"1\" class=\"dataframe\">\n",
       "  <thead>\n",
       "    <tr style=\"text-align: right;\">\n",
       "      <th></th>\n",
       "      <th>uid</th>\n",
       "      <th>title</th>\n",
       "      <th>date_published</th>\n",
       "      <th>abstract</th>\n",
       "    </tr>\n",
       "  </thead>\n",
       "  <tbody>\n",
       "    <tr>\n",
       "      <th>0</th>\n",
       "      <td>05512v1</td>\n",
       "      <td>PAC-NeRF: Physics Augmented Continuum Neural R...</td>\n",
       "      <td>2023-03-09 18:59:50+00:00</td>\n",
       "      <td>Existing approaches to system identification (...</td>\n",
       "    </tr>\n",
       "    <tr>\n",
       "      <th>1</th>\n",
       "      <td>05510v1</td>\n",
       "      <td>Planning with Large Language Models for Code G...</td>\n",
       "      <td>2023-03-09 18:59:47+00:00</td>\n",
       "      <td>Existing large language model-based code gener...</td>\n",
       "    </tr>\n",
       "  </tbody>\n",
       "</table>\n",
       "</div>"
      ],
      "text/plain": [
       "       uid                                              title  \\\n",
       "0  05512v1  PAC-NeRF: Physics Augmented Continuum Neural R...   \n",
       "1  05510v1  Planning with Large Language Models for Code G...   \n",
       "\n",
       "             date_published                                           abstract  \n",
       "0 2023-03-09 18:59:50+00:00  Existing approaches to system identification (...  \n",
       "1 2023-03-09 18:59:47+00:00  Existing large language model-based code gener...  "
      ]
     },
     "execution_count": 11,
     "metadata": {},
     "output_type": "execute_result"
    }
   ],
   "source": [
    "df_raw"
   ]
  },
  {
   "cell_type": "markdown",
   "id": "518c3528",
   "metadata": {},
   "source": [
    "___\n",
    "## 04 - DataFrame Pre-Processing"
   ]
  },
  {
   "cell_type": "code",
   "execution_count": 15,
   "id": "cf3808f5",
   "metadata": {},
   "outputs": [
    {
     "name": "stdout",
     "output_type": "stream",
     "text": [
      "id                object\n",
      "title             object\n",
      "date_published    object\n",
      "abstract          object\n",
      "dtype: object\n"
     ]
    }
   ],
   "source": [
    "print(df.dtypes)"
   ]
  },
  {
   "cell_type": "code",
   "execution_count": 16,
   "id": "c527aa3c",
   "metadata": {},
   "outputs": [],
   "source": [
    "df['date_published'] = pd.to_datetime(df['date_published'])"
   ]
  },
  {
   "cell_type": "code",
   "execution_count": 17,
   "id": "43e469b8",
   "metadata": {},
   "outputs": [
    {
     "name": "stdout",
     "output_type": "stream",
     "text": [
      "id                             object\n",
      "title                          object\n",
      "date_published    datetime64[ns, UTC]\n",
      "abstract                       object\n",
      "dtype: object\n"
     ]
    }
   ],
   "source": [
    "print(df.dtypes)"
   ]
  },
  {
   "cell_type": "code",
   "execution_count": 18,
   "id": "c5ed8235",
   "metadata": {},
   "outputs": [],
   "source": [
    "# Create empty column to store keyword extraction output\n",
    "df['keywords_and_scores'] = ''\n",
    "\n",
    "# Create empty column to store top keywords\n",
    "df['keywords'] = ''"
   ]
  },
  {
   "cell_type": "code",
   "execution_count": 19,
   "id": "48c2c4ad",
   "metadata": {},
   "outputs": [
    {
     "data": {
      "text/html": [
       "<div>\n",
       "<style scoped>\n",
       "    .dataframe tbody tr th:only-of-type {\n",
       "        vertical-align: middle;\n",
       "    }\n",
       "\n",
       "    .dataframe tbody tr th {\n",
       "        vertical-align: top;\n",
       "    }\n",
       "\n",
       "    .dataframe thead th {\n",
       "        text-align: right;\n",
       "    }\n",
       "</style>\n",
       "<table border=\"1\" class=\"dataframe\">\n",
       "  <thead>\n",
       "    <tr style=\"text-align: right;\">\n",
       "      <th></th>\n",
       "      <th>id</th>\n",
       "      <th>title</th>\n",
       "      <th>date_published</th>\n",
       "      <th>abstract</th>\n",
       "      <th>keywords_and_scores</th>\n",
       "      <th>keywords</th>\n",
       "    </tr>\n",
       "  </thead>\n",
       "  <tbody>\n",
       "    <tr>\n",
       "      <th>0</th>\n",
       "      <td>05512v1</td>\n",
       "      <td>PAC-NeRF: Physics Augmented Continuum Neural R...</td>\n",
       "      <td>2023-03-09 18:59:50+00:00</td>\n",
       "      <td>Existing approaches to system identification (...</td>\n",
       "      <td></td>\n",
       "      <td></td>\n",
       "    </tr>\n",
       "    <tr>\n",
       "      <th>1</th>\n",
       "      <td>05510v1</td>\n",
       "      <td>Planning with Large Language Models for Code G...</td>\n",
       "      <td>2023-03-09 18:59:47+00:00</td>\n",
       "      <td>Existing large language model-based code gener...</td>\n",
       "      <td></td>\n",
       "      <td></td>\n",
       "    </tr>\n",
       "  </tbody>\n",
       "</table>\n",
       "</div>"
      ],
      "text/plain": [
       "        id                                              title  \\\n",
       "0  05512v1  PAC-NeRF: Physics Augmented Continuum Neural R...   \n",
       "1  05510v1  Planning with Large Language Models for Code G...   \n",
       "\n",
       "             date_published  \\\n",
       "0 2023-03-09 18:59:50+00:00   \n",
       "1 2023-03-09 18:59:47+00:00   \n",
       "\n",
       "                                            abstract keywords_and_scores  \\\n",
       "0  Existing approaches to system identification (...                       \n",
       "1  Existing large language model-based code gener...                       \n",
       "\n",
       "  keywords  \n",
       "0           \n",
       "1           "
      ]
     },
     "execution_count": 19,
     "metadata": {},
     "output_type": "execute_result"
    }
   ],
   "source": [
    "df"
   ]
  },
  {
   "cell_type": "markdown",
   "id": "fce627d6",
   "metadata": {},
   "source": [
    "___\n",
    "## 05 - Keyword Extraction with KeyBERT\n",
    "- https://github.com/MaartenGr/KeyBERT\n",
    "- https://maartengr.github.io/KeyBERT/guides/embeddings.html"
   ]
  },
  {
   "cell_type": "code",
   "execution_count": 13,
   "id": "43b85cef",
   "metadata": {
    "scrolled": true
   },
   "outputs": [],
   "source": [
    "# Using 'all-MiniLM-L6-v2' given its speed and good quality\n",
    "# https://www.sbert.net/docs/pretrained_models.html#model-overview\n",
    "kw_model = KeyBERT(model='all-MiniLM-L6-v2')"
   ]
  },
  {
   "cell_type": "code",
   "execution_count": 21,
   "id": "19d28b20",
   "metadata": {},
   "outputs": [],
   "source": [
    "# Define parameters\n",
    "stop_words = 'english'\n",
    "ngram_lower_bound = 1\n",
    "ngram_upper_bound = 2\n",
    "use_mmr = True\n",
    "diversity = 0.2\n",
    "use_maxsum=False\n",
    "nr_candidates = 20\n",
    "top_n = 3"
   ]
  },
  {
   "cell_type": "code",
   "execution_count": 22,
   "id": "d7028f54",
   "metadata": {},
   "outputs": [],
   "source": [
    "for i, row in df.iterrows():\n",
    "    abstract_text = row['abstract']\n",
    "    kw_output = kw_model.extract_keywords(abstract_text, \n",
    "                                  keyphrase_ngram_range=(ngram_lower_bound, ngram_upper_bound), \n",
    "                                  stop_words=stop_words,\n",
    "                                  use_mmr=use_mmr, \n",
    "                                  use_maxsum=use_maxsum,\n",
    "                                  diversity=diversity,\n",
    "                                  top_n=top_n)\n",
    "    df.at[i, 'keywords_and_scores'] = kw_output\n",
    "    \n",
    "    # Obtain keyword from every keyword-score pair\n",
    "    top_kw = []\n",
    "    \n",
    "    for pair in kw_output:\n",
    "        top_kw.append(pair[0])\n",
    "        \n",
    "    df.at[i, 'keywords'] = top_kw"
   ]
  },
  {
   "cell_type": "code",
   "execution_count": 23,
   "id": "9a959d1e",
   "metadata": {},
   "outputs": [
    {
     "data": {
      "text/html": [
       "<div>\n",
       "<style scoped>\n",
       "    .dataframe tbody tr th:only-of-type {\n",
       "        vertical-align: middle;\n",
       "    }\n",
       "\n",
       "    .dataframe tbody tr th {\n",
       "        vertical-align: top;\n",
       "    }\n",
       "\n",
       "    .dataframe thead th {\n",
       "        text-align: right;\n",
       "    }\n",
       "</style>\n",
       "<table border=\"1\" class=\"dataframe\">\n",
       "  <thead>\n",
       "    <tr style=\"text-align: right;\">\n",
       "      <th></th>\n",
       "      <th>id</th>\n",
       "      <th>title</th>\n",
       "      <th>date_published</th>\n",
       "      <th>abstract</th>\n",
       "      <th>keywords_and_scores</th>\n",
       "      <th>keywords</th>\n",
       "    </tr>\n",
       "  </thead>\n",
       "  <tbody>\n",
       "    <tr>\n",
       "      <th>0</th>\n",
       "      <td>05512v1</td>\n",
       "      <td>PAC-NeRF: Physics Augmented Continuum Neural R...</td>\n",
       "      <td>2023-03-09 18:59:50+00:00</td>\n",
       "      <td>Existing approaches to system identification (...</td>\n",
       "      <td>[(neural rendering, 0.4973), (object videos, 0...</td>\n",
       "      <td>[neural rendering, object videos, physics augm...</td>\n",
       "    </tr>\n",
       "    <tr>\n",
       "      <th>1</th>\n",
       "      <td>05510v1</td>\n",
       "      <td>Planning with Large Language Models for Code G...</td>\n",
       "      <td>2023-03-09 18:59:47+00:00</td>\n",
       "      <td>Existing large language model-based code gener...</td>\n",
       "      <td>[(code generation, 0.5558), (decoding pg, 0.43...</td>\n",
       "      <td>[code generation, decoding pg, transformer dec...</td>\n",
       "    </tr>\n",
       "  </tbody>\n",
       "</table>\n",
       "</div>"
      ],
      "text/plain": [
       "        id                                              title  \\\n",
       "0  05512v1  PAC-NeRF: Physics Augmented Continuum Neural R...   \n",
       "1  05510v1  Planning with Large Language Models for Code G...   \n",
       "\n",
       "             date_published  \\\n",
       "0 2023-03-09 18:59:50+00:00   \n",
       "1 2023-03-09 18:59:47+00:00   \n",
       "\n",
       "                                            abstract  \\\n",
       "0  Existing approaches to system identification (...   \n",
       "1  Existing large language model-based code gener...   \n",
       "\n",
       "                                 keywords_and_scores  \\\n",
       "0  [(neural rendering, 0.4973), (object videos, 0...   \n",
       "1  [(code generation, 0.5558), (decoding pg, 0.43...   \n",
       "\n",
       "                                            keywords  \n",
       "0  [neural rendering, object videos, physics augm...  \n",
       "1  [code generation, decoding pg, transformer dec...  "
      ]
     },
     "execution_count": 23,
     "metadata": {},
     "output_type": "execute_result"
    }
   ],
   "source": [
    "df"
   ]
  }
 ],
 "metadata": {
  "kernelspec": {
   "display_name": "keybert_taipy_venv",
   "language": "python",
   "name": "keybert_taipy_venv"
  },
  "language_info": {
   "codemirror_mode": {
    "name": "ipython",
    "version": 3
   },
   "file_extension": ".py",
   "mimetype": "text/x-python",
   "name": "python",
   "nbconvert_exporter": "python",
   "pygments_lexer": "ipython3",
   "version": "3.9.12"
  }
 },
 "nbformat": 4,
 "nbformat_minor": 5
}
